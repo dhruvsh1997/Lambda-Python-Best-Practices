{
  "cells": [
    {
      "cell_type": "markdown",
      "metadata": {
        "id": "AlXS2rvdBJxD"
      },
      "source": [
        "# Learning Pydantic: Best Practices and Use Cases for FastAPI and LangChain\n",
        "\n",
        "## Introduction to Pydantic\n",
        "\n",
        "Pydantic is a Python library for **data validation and serialization** using Python type hints. It ensures that data conforms to defined schemas, making it ideal for APIs (FastAPI), AI workflows (LangChain), and structured data handling. Pydantic simplifies validation, reduces bugs, and integrates seamlessly with modern Python frameworks.\n",
        "\n",
        "**Why Pydantic?**\n",
        "- **Type Safety**: Leverages Python type hints for automatic validation.\n",
        "- **Serialization**: Converts Python objects to JSON and vice versa.\n",
        "- **Error Handling**: Provides detailed error messages for invalid data.\n",
        "- **Integration**: Used in FastAPI for request/response validation and in LangChain for structuring AI model inputs/outputs.\n",
        "\n",
        "**Best Practices**:\n",
        "1. Use `BaseModel` for defining data schemas.\n",
        "2. Leverage type annotations for fields (e.g., `str`, `int`, `List`).\n",
        "3. Use validators for custom logic.\n",
        "4. Enable `orm_mode` for database integration.\n",
        "5. Optimize performance by precompiling models or using `model_validate_json`.\n",
        "\n",
        "This notebook covers key Pydantic concepts, best practices, and diverse examples integrating OOP principles (Encapsulation, Abstraction, Inheritance, Polymorphism) and advanced Python concepts (decorators, iterables, memory management, etc.). Each section includes a theory explanation followed by a practical example.\n",
        "\n",
        "**Pre-requisites**: Install Pydantic by running the following cell."
      ]
    },
    {
      "cell_type": "code",
      "metadata": {
        "id": "HHVVh3V7BJxE"
      },
      "source": [
        "!pip install pydantic\n",
        "!pip install pydantic[email]  # For email validation support"
      ],
      "execution_count": null,
      "outputs": []
    },
    {
      "cell_type": "markdown",
      "metadata": {
        "id": "oxiW1CChBJxE"
      },
      "source": [
        "## 1. Basic Pydantic Model with Encapsulation\n",
        "\n",
        "**Concept**: Pydantic models are defined using `BaseModel`. Encapsulation (an OOP concept) is achieved by defining private attributes (using underscores) and controlling access via methods or validators.\n",
        "\n",
        "**Use Case**: Validating user data for an API, ensuring sensitive data (e.g., email) is validated and encapsulated.\n",
        "\n",
        "**Theory**:\n",
        "- Use `BaseModel` to define a model with typed fields.\n",
        "- Use `PrivateAttr` for private attributes (encapsulation).\n",
        "- Use `EmailStr` for email validation.\n",
        "\n",
        "**Flowchart**:\n",
        "```mermaid\n",
        "graph TD\n",
        "    A[Input Data] --> B[Create Pydantic Model]\n",
        "    B --> C[Validate Fields]\n",
        "    C -->|Valid| D[Access Private Attributes]\n",
        "    C -->|Invalid| E[Raise ValidationError]\n",
        "```\n",
        "\n",
        "**Example**: A `User` model with encapsulated email validation."
      ]
    },
    {
      "cell_type": "code",
      "metadata": {
        "id": "ZTCmmAL8BJxF"
      },
      "source": [
        "from pydantic import BaseModel, EmailStr, PrivateAttr\n",
        "\n",
        "# Define a Pydantic model with encapsulation\n",
        "class User(BaseModel):\n",
        "    username: str\n",
        "    email: EmailStr\n",
        "    _secret_token: str = PrivateAttr(default='hidden_token')  # Encapsulated private attribute\n",
        "\n",
        "    def get_token(self) -> str:\n",
        "        \"\"\"Access private token (encapsulation).\"\"\"\n",
        "        return self._secret_token\n",
        "\n",
        "# Example usage\n",
        "try:\n",
        "    user = User(username=\"john_doe\", email=\"john@example.com\")\n",
        "    print(f\"User: {user.username}, Email: {user.email}\")\n",
        "    print(f\"Secret Token: {user.get_token()}\")  # Accessing private attribute via method\n",
        "    # Invalid email example\n",
        "    invalid_user = User(username=\"jane_doe\", email=\"invalid_email\")\n",
        "except ValueError as e:\n",
        "    print(f\"Validation Error: {e}\")"
      ],
      "execution_count": null,
      "outputs": []
    },
    {
      "cell_type": "markdown",
      "metadata": {
        "id": "vZDfXVLmBJxF"
      },
      "source": [
        "## 2. Custom Validators with Decorators\n",
        "\n",
        "**Concept**: Pydantic allows custom validation logic using the `@field_validator` decorator. Decorators are a powerful Python feature for modifying function behavior.\n",
        "\n",
        "**Use Case**: Validating complex data (e.g., password strength) in an API or user registration system.\n",
        "\n",
        "**Theory**:\n",
        "- Use `@field_validator` to define custom validation for specific fields.\n",
        "- Combine with regular expressions (RegEx) for pattern matching.\n",
        "- Decorators wrap validation logic, keeping code modular.\n",
        "\n",
        "**Example**: A `UserRegistration` model with a password validator using RegEx, showcasing decorators."
      ]
    },
    {
      "cell_type": "code",
      "metadata": {
        "id": "jj4YBJ1VBJxG"
      },
      "source": [
        "from pydantic import BaseModel, field_validator\n",
        "import re\n",
        "\n",
        "# Define a Pydantic model with custom validator\n",
        "class UserRegistration(BaseModel):\n",
        "    username: str\n",
        "    password: str\n",
        "\n",
        "    @field_validator('password')\n",
        "    def validate_password(cls, value):\n",
        "        \"\"\"Ensure password is at least 8 characters with a number and special character.\"\"\"\n",
        "        pattern = r'^(?=.*[0-9])(?=.*[!@#$%^&*]).{8,}$'\n",
        "        if not re.match(pattern, value):\n",
        "            raise ValueError('Password must be 8+ characters with a number and special character')\n",
        "        return value\n",
        "\n",
        "# Example usage\n",
        "try:\n",
        "    user = UserRegistration(username=\"alice\", password=\"Secure#123\")\n",
        "    print(f\"Valid User: {user}\")\n",
        "    # Invalid password example\n",
        "    invalid_user = UserRegistration(username=\"bob\", password=\"weak\")\n",
        "except ValueError as e:\n",
        "    print(f\"Validation Error: {e}\")"
      ],
      "execution_count": null,
      "outputs": []
    },
    {
      "cell_type": "markdown",
      "metadata": {
        "id": "NHlRyC8fBJxG"
      },
      "source": [
        "## 3. Inheritance and Polymorphism in Pydantic\n",
        "\n",
        "**Concept**: Pydantic supports inheritance (OOP concept) and polymorphism through method overriding. This allows creating reusable base models and specialized subclasses.\n",
        "\n",
        "**Use Case**: Modeling different types of vehicles in a fleet management API, with shared and specialized attributes.\n",
        "\n",
        "**Theory**:\n",
        "- Inherit from a base `BaseModel` to share common fields.\n",
        "- Override methods to implement polymorphic behavior.\n",
        "- Use `super()` to call parent class methods.\n",
        "\n",
        "**Example**: A `Vehicle` base model with `Car` and `Truck` subclasses, demonstrating inheritance and method overriding."
      ]
    },
    {
      "cell_type": "code",
      "metadata": {
        "id": "0lzgLvshBJxH"
      },
      "source": [
        "from pydantic import BaseModel\n",
        "\n",
        "# Base model\n",
        "class Vehicle(BaseModel):\n",
        "    brand: str\n",
        "    speed: float\n",
        "\n",
        "    def description(self) -> str:\n",
        "        \"\"\"Base description method.\"\"\"\n",
        "        return f\"{self.brand} vehicle with speed {self.speed} km/h\"\n",
        "\n",
        "# Subclass with polymorphism\n",
        "class Car(Vehicle):\n",
        "    seats: int\n",
        "\n",
        "    def description(self) -> str:\n",
        "        \"\"\"Override description for Car (polymorphism).\"\"\"\n",
        "        base_desc = super().description()\n",
        "        return f\"{base_desc}, {self.seats} seats\"\n",
        "\n",
        "# Subclass with polymorphism\n",
        "class Truck(Vehicle):\n",
        "    cargo_capacity: float\n",
        "\n",
        "    def description(self) -> str:\n",
        "        \"\"\"Override description for Truck (polymorphism).\"\"\"\n",
        "        base_desc = super().description()\n",
        "        return f\"{base_desc}, {self.cargo_capacity} tons capacity\"\n",
        "\n",
        "# Example usage\n",
        "car = Car(brand=\"Toyota\", speed=180.0, seats=5)\n",
        "truck = Truck(brand=\"Volvo\", speed=120.0, cargo_capacity=10.0)\n",
        "print(car.description())\n",
        "print(truck.description())"
      ],
      "execution_count": null,
      "outputs": []
    },
    {
      "cell_type": "markdown",
      "metadata": {
        "id": "pe-jx30YBJxH"
      },
      "source": [
        "## 4. Abstraction with Pydantic and Iterables\n",
        "\n",
        "**Concept**: Abstraction (OOP concept) hides implementation details, exposing only essential interfaces. Pydantic models can use abstract base classes (ABCs) and support iterables for processing collections.\n",
        "\n",
        "**Use Case**: Managing a collection of items in an e-commerce API, with abstract methods for processing.\n",
        "\n",
        "**Theory**:\n",
        "- Use `abc.ABC` for abstract base classes.\n",
        "- Implement `__iter__` to make models iterable.\n",
        "- Use Pydantic for validating collection data.\n",
        "\n",
        "**Example**: An abstract `Item` model with an iterable `Order` model."
      ]
    },
    {
      "cell_type": "code",
      "metadata": {
        "id": "C1yZ97aDBJxH"
      },
      "source": [
        "from pydantic import BaseModel\n",
        "from abc import ABC, abstractmethod\n",
        "from typing import List\n",
        "\n",
        "# Abstract base class\n",
        "class ItemBase(BaseModel, ABC):\n",
        "    name: str\n",
        "    price: float\n",
        "\n",
        "    @abstractmethod\n",
        "    def get_details(self) -> str:\n",
        "        \"\"\"Abstract method for item details.\"\"\"\n",
        "        pass\n",
        "\n",
        "# Concrete class\n",
        "class Item(ItemBase):\n",
        "    def get_details(self) -> str:\n",
        "        return f\"{self.name}: ${self.price}\"\n",
        "\n",
        "# Iterable order model\n",
        "class Order(BaseModel):\n",
        "    items: List[Item]\n",
        "\n",
        "    def __iter__(self):\n",
        "        \"\"\"Make Order iterable over items.\"\"\"\n",
        "        return iter(self.items)\n",
        "\n",
        "# Example usage\n",
        "order = Order(items=[\n",
        "    Item(name=\"Laptop\", price=999.99),\n",
        "    Item(name=\"Mouse\", price=29.99)\n",
        "])\n",
        "for item in order:\n",
        "    print(item.get_details())"
      ],
      "execution_count": null,
      "outputs": []
    },
    {
      "cell_type": "markdown",
      "metadata": {
        "id": "DYddfC7FBJxI"
      },
      "source": [
        "## 5. Advanced Validation with Closures and Lambda\n",
        "\n",
        "**Concept**: Pydantic supports complex validation using closures and lambda functions. Closures allow encapsulating logic, while lambdas provide concise functional programming.\n",
        "\n",
        "**Use Case**: Validating discount codes in an e-commerce API, with dynamic validation rules.\n",
        "\n",
        "**Theory**:\n",
        "- Use closures to create reusable validation logic.\n",
        "- Use lambdas for inline validation checks.\n",
        "- Combine with Pydantic’s `@field_validator`.\n",
        "\n",
        "**Example**: A `Discount` model with a closure-based validator."
      ]
    },
    {
      "cell_type": "code",
      "metadata": {
        "id": "Dmw9yLrKBJxI"
      },
      "source": [
        "from pydantic import BaseModel, field_validator\n",
        "from typing import Callable\n",
        "\n",
        "# Closure for dynamic validation\n",
        "def create_code_validator(prefix: str) -> Callable[[str], str]:\n",
        "    def validate_code(value: str) -> str:\n",
        "        if not value.startswith(prefix):\n",
        "            raise ValueError(f\"Code must start with {prefix}\")\n",
        "        return value\n",
        "    return validate_code\n",
        "\n",
        "# Pydantic model with closure and lambda\n",
        "class Discount(BaseModel):\n",
        "    code: str\n",
        "    amount: float\n",
        "\n",
        "    @field_validator('code')\n",
        "    def validate_discount_code(cls, value):\n",
        "        \"\"\"Use closure and lambda for validation.\"\"\"\n",
        "        validator = create_code_validator(\"DISC\")\n",
        "        # Lambda to check length\n",
        "        if not (lambda x: len(x) >= 6)(value):\n",
        "            raise ValueError(\"Code must be 6+ characters\")\n",
        "        return validator(value)\n",
        "\n",
        "# Example usage\n",
        "try:\n",
        "    discount = Discount(code=\"DISC2023\", amount=10.0)\n",
        "    print(f\"Valid Discount: {discount}\")\n",
        "    invalid_discount = Discount(code=\"SALE123\", amount=5.0)\n",
        "except ValueError as e:\n",
        "    print(f\"Validation Error: {e}\")"
      ],
      "execution_count": null,
      "outputs": []
    },
    {
      "cell_type": "markdown",
      "metadata": {
        "id": "s2CO5FHlBJxI"
      },
      "source": [
        "## 6. Pydantic with FastAPI: API Integration\n",
        "\n",
        "**Concept**: Pydantic integrates seamlessly with FastAPI for request/response validation, leveraging type hints and automatic JSON schema generation.\n",
        "\n",
        "**Use Case**: Building a user creation endpoint in a FastAPI application.\n",
        "\n",
        "**Theory**:\n",
        "- Use Pydantic models as request/response schemas in FastAPI.\n",
        "- Automatic validation and serialization reduce boilerplate code.\n",
        "- FastAPI generates OpenAPI docs from Pydantic models.\n",
        "\n",
        "**Example**: A FastAPI endpoint using a Pydantic model. (Note: Run this in a local environment with `uvicorn` for full functionality; Colab has limitations for running servers.)"
      ]
    },
    {
      "cell_type": "code",
      "metadata": {
        "id": "36djZPkCBJxJ"
      },
      "source": [
        "!pip install fastapi uvicorn\n",
        "\n",
        "from fastapi import FastAPI\n",
        "from pydantic import BaseModel\n",
        "\n",
        "app = FastAPI()\n",
        "\n",
        "# Pydantic model for API\n",
        "class UserCreate(BaseModel):\n",
        "    name: str\n",
        "    age: int\n",
        "\n",
        "@app.post(\"/users/\")\n",
        "async def create_user(user: UserCreate):\n",
        "    \"\"\"Create a user with validated data.\"\"\"\n",
        "    return {\"message\": f\"User {user.name} created\", \"data\": user}\n",
        "\n",
        "# Run this locally with: uvicorn main:app --reload\n",
        "# Example curl request:\n",
        "# curl -X POST \"http://127.0.0.1:8000/users/\" -H \"Content-Type: application/json\" -d '{\"name\": \"Alice\", \"age\": 25}'\n",
        "print(\"Run this code locally with uvicorn to test the API.\")"
      ],
      "execution_count": null,
      "outputs": []
    },
    {
      "cell_type": "markdown",
      "metadata": {
        "id": "bTlyMsHmBJxJ"
      },
      "source": [
        "## 7. Pydantic with LangChain: Structured AI Outputs\n",
        "\n",
        "**Concept**: Pydantic is used in LangChain to structure and validate outputs from large language models (LLMs), ensuring consistent data formats.\n",
        "\n",
        "**Use Case**: Structuring AI-generated responses for a chatbot.\n",
        "\n",
        "**Theory**:\n",
        "- Define Pydantic models for expected LLM output formats.\n",
        "- Use with LangChain’s `with_structured_output` to enforce structure.\n",
        "- Requires Pydantic V2 for modern LangChain compatibility.\n",
        "\n",
        "**Example**: A Pydantic model for structuring chatbot responses. (Note: LangChain requires an LLM API key; this is a simplified example.)"
      ]
    },
    {
      "cell_type": "code",
      "metadata": {
        "id": "TN2I_yTyBJxJ"
      },
      "source": [
        "!pip install langchain langchain-openai\n",
        "\n",
        "from pydantic import BaseModel\n",
        "from langchain_openai import ChatOpenAI\n",
        "\n",
        "# Pydantic model for structured output\n",
        "class ChatResponse(BaseModel):\n",
        "    response: str\n",
        "    sentiment: str\n",
        "\n",
        "# Mock LangChain setup (replace with actual LLM API key)\n",
        "try:\n",
        "    model = ChatOpenAI()\n",
        "    structured_model = model.with_structured_output(ChatResponse)\n",
        "    response = structured_model.invoke(\"Hello, how can I assist you?\")\n",
        "    print(f\"Structured Response: {response}\")\n",
        "except Exception as e:\n",
        "    print(f\"Error: {e}. Set up an OpenAI API key to run this example.\")"
      ],
      "execution_count": null,
      "outputs": []
    },
    {
      "cell_type": "markdown",
      "metadata": {
        "id": "Jfhb6-NcBJxJ"
      },
      "source": [
        "## 8. Memory Management and Optimization\n",
        "\n",
        "**Concept**: Pydantic models can be optimized for memory usage, especially for large datasets. Python’s memory management (reference counting, garbage collection) impacts performance.\n",
        "\n",
        "**Use Case**: Processing large datasets in an API, optimizing memory with shallow vs. deep copies.\n",
        "\n",
        "**Theory**:\n",
        "- Use `model_validate_json` for faster JSON parsing.\n",
        "- Understand shallow vs. deep copies to manage mutable objects.\n",
        "- Python’s reference counting increments/decrements object references; garbage collection handles cyclic references.\n",
        "\n",
        "**Example**: Optimizing a Pydantic model for large data with deep copy."
      ]
    },
    {
      "cell_type": "code",
      "metadata": {
        "id": "_im_czOPBJxJ"
      },
      "source": [
        "from pydantic import BaseModel\n",
        "from copy import deepcopy\n",
        "import sys\n",
        "\n",
        "# Pydantic model for large dataset\n",
        "class DataPoint(BaseModel):\n",
        "    id: int\n",
        "    values: list[float]\n",
        "\n",
        "# Create a large dataset\n",
        "data = {\"id\": 1, \"values\": [1.0, 2.0, 3.0] * 1000}\n",
        "\n",
        "# Shallow copy (shares references to mutable objects)\n",
        "shallow_copy = data.copy()\n",
        "print(f\"Shallow copy memory: {sys.getsizeof(shallow_copy)} bytes\")\n",
        "\n",
        "# Deep copy (independent objects)\n",
        "deep_copy = deepcopy(data)\n",
        "print(f\"Deep copy memory: {sys.getsizeof(deep_copy)} bytes\")\n",
        "\n",
        "# Validate with Pydantic\n",
        "data_point = DataPoint.model_validate_json(str(data).replace(\"'\", '\"'))\n",
        "print(f\"Validated DataPoint: {data_point.id}, First few values: {data_point.values[:5]}\")"
      ],
      "execution_count": null,
      "outputs": []
    },
    {
      "cell_type": "markdown",
      "metadata": {
        "id": "KZVQSZ2zBJxJ"
      },
      "source": [
        "## 9. Testing Pydantic Models with Pytest\n",
        "\n",
        "**Concept**: Pydantic models should be tested to ensure validation logic works. Pytest is a robust testing framework for Python.\n",
        "\n",
        "**Use Case**: Testing a Pydantic model for an API to ensure data integrity.\n",
        "\n",
        "**Theory**:\n",
        "- Use Pytest to write unit tests for Pydantic models.\n",
        "- Test valid and invalid cases to verify validation logic.\n",
        "- Use `pytest.raises` to check for expected errors.\n",
        "\n",
        "**Example**: Testing a `Product` model with Pytest."
      ]
    },
    {
      "cell_type": "code",
      "metadata": {
        "id": "H5mWLuKOBJxJ"
      },
      "source": [
        "!pip install pytest\n",
        "\n",
        "from pydantic import BaseModel, field_validator\n",
        "import pytest\n",
        "\n",
        "# Pydantic model\n",
        "class Product(BaseModel):\n",
        "    name: str\n",
        "    price: float\n",
        "\n",
        "    @field_validator('price')\n",
        "    def price_positive(cls, value):\n",
        "        if value <= 0:\n",
        "            raise ValueError(\"Price must be positive\")\n",
        "        return value\n",
        "\n",
        "# Pytest tests\n",
        "def test_valid_product():\n",
        "    product = Product(name=\"Book\", price=29.99)\n",
        "    assert product.name == \"Book\"\n",
        "    assert product.price == 29.99\n",
        "\n",
        "def test_invalid_price():\n",
        "    with pytest.raises(ValueError):\n",
        "        Product(name=\"Book\", price=-10.0)\n",
        "\n",
        "# Run tests (in Colab, use !pytest)\n",
        "# Save this code to a file (e.g., test_product.py) and run: !pytest test_product.py\n",
        "print(\"Save this code to test_product.py and run 'pytest test_product.py' locally.\")"
      ],
      "execution_count": null,
      "outputs": []
    },
    {
      "cell_type": "markdown",
      "metadata": {
        "id": "kyBJJnswBJxK"
      },
      "source": [
        "## 10. Pydantic with Generators and Recursive Functions\n",
        "\n",
        "**Concept**: Pydantic can validate data processed by generators or recursive functions, useful for handling large datasets or hierarchical data.\n",
        "\n",
        "**Use Case**: Validating a tree-like data structure in a LangChain application.\n",
        "\n",
        "**Theory**:\n",
        "- Generators yield data lazily, reducing memory usage.\n",
        "- Recursive functions process hierarchical data.\n",
        "- Pydantic validates each element in the generator or recursive structure.\n",
        "\n",
        "**Example**: A `TreeNode` model with a generator for traversing nodes."
      ]
    },
    {
      "cell_type": "code",
      "metadata": {
        "id": "9mt4-KPqBJxK"
      },
      "source": [
        "from pydantic import BaseModel\n",
        "from typing import List, Optional\n",
        "\n",
        "# Pydantic model for tree node\n",
        "class TreeNode(BaseModel):\n",
        "    value: str\n",
        "    children: List['TreeNode'] = []\n",
        "\n",
        "    def traverse(self):\n",
        "        \"\"\"Generator to traverse tree nodes.\"\"\"\n",
        "        yield self\n",
        "        for child in self.children:\n",
        "            yield from child.traverse()\n",
        "\n",
        "# Example usage\n",
        "tree = TreeNode(\n",
        "    value=\"Root\",\n",
        "    children=[\n",
        "        TreeNode(value=\"Child1\", children=[TreeNode(value=\"Grandchild\")]),\n",
        "        TreeNode(value=\"Child2\")\n",
        "    ]\n",
        ")\n",
        "\n",
        "# Traverse and validate\n",
        "for node in tree.traverse():\n",
        "    print(f\"Node: {node.value}\")"
      ],
      "execution_count": null,
      "outputs": []
    },
    {
      "cell_type": "markdown",
      "metadata": {
        "id": "yI2aT7vSBJxK"
      },
      "source": [
        "## Conclusion\n",
        "\n",
        "This notebook covered key Pydantic concepts and best practices, with diverse examples integrating OOP principles (Encapsulation, Abstraction, Inheritance, Polymorphism) and advanced Python features (decorators, closures, iterables, generators, memory management, testing). These prepare you for using Pydantic with FastAPI (API validation) and LangChain (structured AI outputs). Experiment with these examples, modify them, and explore Pydantic’s documentation for deeper insights.\n",
        "\n",
        "**Next Steps**:\n",
        "- Explore Pydantic’s [official documentation](https://docs.pydantic.dev/).\n",
        "- Build a small FastAPI project using Pydantic models.\n",
        "- Experiment with LangChain’s structured output features.\n",
        "\n",
        "Happy coding!"
      ]
    }
  ],
  "metadata": {
    "kernelspec": {
      "display_name": "Python 3",
      "language": "python",
      "name": "python3"
    },
    "language_info": {
      "codemirror_mode": {
        "name": "ipython",
        "version": 3
      },
      "file_extension": ".py",
      "mimetype": "text/x-python",
      "name": "python",
      "nbconvert_exporter": "python",
      "pygments_lexer": "ipython3",
      "version": "3.8.10"
    },
    "colab": {
      "provenance": []
    }
  },
  "nbformat": 4,
  "nbformat_minor": 0
}