{
  "nbformat": 4,
  "nbformat_minor": 0,
  "metadata": {
    "colab": {
      "provenance": []
    },
    "kernelspec": {
      "name": "python3",
      "display_name": "Python 3"
    },
    "language_info": {
      "name": "python"
    }
  },
  "cells": [
    {
      "cell_type": "markdown",
      "source": [
        "###What is a lambda?\n",
        "1. A lambda is an anonymous function (i.e., without a name). It is syntactic sugar for small throwaway functions.\n",
        "- Core Syntax\n",
        "- lambda arguments: expression <br>\n",
        "lambda x: x + 1"
      ],
      "metadata": {
        "id": "kacZ70Oz0mvi"
      }
    },
    {
      "cell_type": "code",
      "execution_count": null,
      "metadata": {
        "colab": {
          "base_uri": "https://localhost:8080/"
        },
        "id": "v2xMyMmgBpwM",
        "outputId": "b2a519fa-7f31-486f-fe19-34d28bea6f03"
      },
      "outputs": [
        {
          "output_type": "stream",
          "name": "stdout",
          "text": [
            "Even\n"
          ]
        }
      ],
      "source": [
        "check_even = lambda x: \"Even\" if x % 2 == 0 else \"Odd\"\n",
        "print(check_even(10))"
      ]
    },
    {
      "cell_type": "code",
      "source": [
        "#“Positive”, “Negative” or “Zero”.\n",
        "check_posnag = lambda x: \"Positive\" if x > 0 else (\"Zero\" if x==0 else \"Negetive\")\n",
        "print(check_posnag(-1))"
      ],
      "metadata": {
        "colab": {
          "base_uri": "https://localhost:8080/"
        },
        "id": "47_HyRKu0uY2",
        "outputId": "bef8f4e1-3f1f-434c-919a-449a3f492ef0"
      },
      "execution_count": null,
      "outputs": [
        {
          "output_type": "stream",
          "name": "stdout",
          "text": [
            "Negetive\n"
          ]
        }
      ]
    },
    {
      "cell_type": "code",
      "source": [
        "numbers = [1, 2, 3, 4]\n",
        "squares = list(map(lambda x: x ** 2, numbers))\n",
        "print(squares)"
      ],
      "metadata": {
        "colab": {
          "base_uri": "https://localhost:8080/"
        },
        "id": "-cIQeGre1Ymz",
        "outputId": "7decbb49-b08c-4767-f8fe-0bfae09e59e0"
      },
      "execution_count": null,
      "outputs": [
        {
          "output_type": "stream",
          "name": "stdout",
          "text": [
            "[1, 4, 9, 16]\n"
          ]
        }
      ]
    },
    {
      "cell_type": "code",
      "source": [
        "#Use map with lambda to capitalize a list of names and prefix them with \"Hello \".\n",
        "names = [\"max\",\"tax\",\"jax\",\"rex\",\"bix\"]\n",
        "capNames = list(map(lambda x:\"Hello \"+str(x).capitalize(), names))\n",
        "print(capNames)"
      ],
      "metadata": {
        "colab": {
          "base_uri": "https://localhost:8080/"
        },
        "id": "55JdXbAZ5kJu",
        "outputId": "f457331b-5b86-4843-9e63-4eefe8b53078"
      },
      "execution_count": null,
      "outputs": [
        {
          "output_type": "stream",
          "name": "stdout",
          "text": [
            "['Hello Max', 'Hello Tax', 'Hello Jax', 'Hello Rex', 'Hello Bix']\n"
          ]
        }
      ]
    },
    {
      "cell_type": "code",
      "source": [
        "#filter example\n",
        "def check_float_or_string(item):\n",
        "  return isinstance(item, float) or isinstance(item, str)\n",
        "\n",
        "data = [1, 2.5, 'apple', 3, 'banana', 4.0, 5]\n",
        "filtered_data = list(filter(check_float_or_string, data))\n",
        "filtered_data"
      ],
      "metadata": {
        "colab": {
          "base_uri": "https://localhost:8080/"
        },
        "id": "gFLl90Ns6p7q",
        "outputId": "2ec14e79-d063-4142-c5fb-1cc14ad8449a"
      },
      "execution_count": null,
      "outputs": [
        {
          "output_type": "execute_result",
          "data": {
            "text/plain": [
              "[2.5, 'apple', 'banana', 4.0]"
            ]
          },
          "metadata": {},
          "execution_count": 5
        }
      ]
    },
    {
      "cell_type": "code",
      "source": [
        "#print even from list\n",
        "nums = [1, 5, 6, 2, 7]\n",
        "even = list(filter(lambda x: x % 2 == 0, nums))\n",
        "print(even)  # [6, 2]"
      ],
      "metadata": {
        "colab": {
          "base_uri": "https://localhost:8080/"
        },
        "id": "dK9wLJPV6Hri",
        "outputId": "d689167c-d775-496c-c8dc-11faf72fc314"
      },
      "execution_count": null,
      "outputs": [
        {
          "output_type": "stream",
          "name": "stdout",
          "text": [
            "[6, 2]\n"
          ]
        }
      ]
    },
    {
      "cell_type": "code",
      "source": [
        "# Use filter with lambda to extract strings of length greater than 5 from a list of words.\n",
        "aircrafts = [\"Supermarine Spitfire\", \"Messerschmitt Bf 109\", \"North American P-51 Mustang\", \"Focke-Wulf Fw 190\", \"Mitsubishi A6M Zero\"]\n",
        "filetAir = list(filter(lambda x: len(x) >= 20, aircrafts))\n",
        "print(filetAir)"
      ],
      "metadata": {
        "colab": {
          "base_uri": "https://localhost:8080/"
        },
        "id": "zWJYOKTY6o9x",
        "outputId": "5324ed46-7285-4114-ab64-d1ec227fd653"
      },
      "execution_count": null,
      "outputs": [
        {
          "output_type": "stream",
          "name": "stdout",
          "text": [
            "['Supermarine Spitfire', 'Messerschmitt Bf 109', 'North American P-51 Mustang']\n"
          ]
        }
      ]
    },
    {
      "cell_type": "code",
      "source": [
        "# We use reduce when we want to apply a function to the items of an iterable\n",
        "# in a cumulative way, reducing the iterable to a single value.\n",
        "# In this example, we want to find the sum of all numbers in the list.\n",
        "from functools import reduce\n",
        "\n",
        "def concatenate_strings(string1, string2):\n",
        "  \"\"\"\n",
        "  A simple function to concatenate two strings.\n",
        "  \"\"\"\n",
        "  return string1 + \" \" + string2\n",
        "\n",
        "words = [\"This\", \"is\", \"an\", \"example\"]\n",
        "sentence = reduce(concatenate_strings, words)\n",
        "sentence"
      ],
      "metadata": {
        "colab": {
          "base_uri": "https://localhost:8080/",
          "height": 36
        },
        "id": "CNSoVBDt9a_m",
        "outputId": "0899b9de-b73d-47d6-bcd1-94686df5d94a"
      },
      "execution_count": null,
      "outputs": [
        {
          "output_type": "execute_result",
          "data": {
            "text/plain": [
              "'This is an example'"
            ],
            "application/vnd.google.colaboratory.intrinsic+json": {
              "type": "string"
            }
          },
          "metadata": {},
          "execution_count": 8
        }
      ]
    },
    {
      "cell_type": "code",
      "source": [
        "from functools import reduce\n",
        "nums = [1, 2, 3, 4]#factorial\n",
        "product = reduce(lambda x, y: x * y, nums)\n",
        "print(product)  # 24"
      ],
      "metadata": {
        "colab": {
          "base_uri": "https://localhost:8080/"
        },
        "id": "uwW3ikyD8xs7",
        "outputId": "e5ac839c-60d6-4f40-e5c1-f0782a8b48ad"
      },
      "execution_count": null,
      "outputs": [
        {
          "output_type": "stream",
          "name": "stdout",
          "text": [
            "24\n"
          ]
        }
      ]
    },
    {
      "cell_type": "code",
      "source": [
        "# Use reduce to find the longest word in a list of strings.\n",
        "furniture_brands = [\"IKEA\", \"Ashley Furniture\", \"Ethan Allen\", \"La-Z-Boy\", \"Herman Miller\"]\n",
        "longest_str = reduce(lambda x, y: (x if len(x)>len(y) else y), furniture_brands)\n",
        "print(longest_str)"
      ],
      "metadata": {
        "colab": {
          "base_uri": "https://localhost:8080/"
        },
        "id": "eBOdAvsl_nfS",
        "outputId": "89308b57-b63a-4e81-d82e-8c3103369c35"
      },
      "execution_count": null,
      "outputs": [
        {
          "output_type": "stream",
          "name": "stdout",
          "text": [
            "Ashley Furniture\n"
          ]
        }
      ]
    },
    {
      "cell_type": "code",
      "source": [
        "#Example of sorted\n",
        "students = {\"John\": 80, \"Alice\": 90, \"Bob\": 70}\n",
        "sorted_students = sorted(students.items())\n",
        "print(sorted_students)  # Sorted by marks"
      ],
      "metadata": {
        "colab": {
          "base_uri": "https://localhost:8080/"
        },
        "id": "oAGLAVxZCTCX",
        "outputId": "5258286d-9118-4ad1-961d-7cab087d692a"
      },
      "execution_count": null,
      "outputs": [
        {
          "output_type": "stream",
          "name": "stdout",
          "text": [
            "[('Alice', 90), ('Bob', 70), ('John', 80)]\n"
          ]
        }
      ]
    },
    {
      "cell_type": "code",
      "source": [
        "students = [(\"John\", 80), (\"Alice\", 90), (\"Bob\", 70)]\n",
        "sorted_students = sorted(students, key=lambda x: x[1])\n",
        "print(sorted_students)  # Sorted by marks"
      ],
      "metadata": {
        "colab": {
          "base_uri": "https://localhost:8080/"
        },
        "id": "EIjHdYy-AWpN",
        "outputId": "1cf1f0d9-6f15-4a6d-92e9-fc407a5dcc1e"
      },
      "execution_count": null,
      "outputs": [
        {
          "output_type": "stream",
          "name": "stdout",
          "text": [
            "[('Bob', 70), ('John', 80), ('Alice', 90)]\n"
          ]
        }
      ]
    },
    {
      "cell_type": "code",
      "source": [
        "# Sort a list of dictionaries representing users by their \"age\" key using lambda.\n",
        "artifacts = [{\"Rosetta Stone\": 1799}, {\"Terracotta Army\": 210}, {\"Code of Hammurabi\": 1754}, {\"Venus de Milo\": 130}, {\"Dead Sea Scrolls\": 200}]\n",
        "sorted_dict = sorted(artifacts, key=lambda x: list(x.values())[0])\n",
        "print(sorted_dict)"
      ],
      "metadata": {
        "colab": {
          "base_uri": "https://localhost:8080/"
        },
        "id": "9cn52FxDCSVg",
        "outputId": "0f9880cb-89c2-48e4-994c-4246032e423e"
      },
      "execution_count": null,
      "outputs": [
        {
          "output_type": "stream",
          "name": "stdout",
          "text": [
            "[{'Venus de Milo': 130}, {'Dead Sea Scrolls': 200}, {'Terracotta Army': 210}, {'Code of Hammurabi': 1754}, {'Rosetta Stone': 1799}]\n"
          ]
        }
      ]
    },
    {
      "cell_type": "code",
      "source": [
        "#nested Lambda\n",
        "adder = lambda x: lambda y: x + y\n",
        "add_5 = adder(5)\n",
        "print(add_5(10))  # 15"
      ],
      "metadata": {
        "colab": {
          "base_uri": "https://localhost:8080/"
        },
        "id": "2_nQfV9rE7Wc",
        "outputId": "b4009dea-7279-4e88-b2cf-7d09990777ab"
      },
      "execution_count": null,
      "outputs": [
        {
          "output_type": "stream",
          "name": "stdout",
          "text": [
            "15\n"
          ]
        }
      ]
    },
    {
      "cell_type": "code",
      "source": [
        "n = 10\n",
        "a = 0\n",
        "b = 1\n",
        "next = b\n",
        "count = 1\n",
        "\n",
        "while count <= n:\n",
        "    print(next, end=\" \")\n",
        "    count += 1\n",
        "    a, b = b, next\n",
        "    next = a + b\n",
        "print()"
      ],
      "metadata": {
        "id": "m_BpzCVrlUWb",
        "outputId": "be9f82a4-b95c-4fd5-e8b6-e7fe3043d991",
        "colab": {
          "base_uri": "https://localhost:8080/"
        }
      },
      "execution_count": null,
      "outputs": [
        {
          "output_type": "stream",
          "name": "stdout",
          "text": [
            "1 2 3 5 8 13 21 34 55 89 \n"
          ]
        }
      ]
    },
    {
      "cell_type": "code",
      "source": [
        "# Nested lambda example\n",
        "add_three_numbers = lambda x: lambda y: lambda z: x + y + z\n",
        "result = add_three_numbers(1)(2)(3)\n",
        "print(result)"
      ],
      "metadata": {
        "colab": {
          "base_uri": "https://localhost:8080/"
        },
        "id": "2-ZXJNJ8k8m6",
        "outputId": "edb4ad30-1341-445e-bd03-ccec6d3d8a0b"
      },
      "execution_count": null,
      "outputs": [
        {
          "output_type": "stream",
          "name": "stdout",
          "text": [
            "6\n"
          ]
        }
      ]
    },
    {
      "cell_type": "code",
      "source": [
        "#Write a lambda that returns a multiplier function — i.e., multiplier(3)(10) should return 30.\n",
        "multipl = lambda x: lambda y:x*y\n",
        "mul3 = multipl(3)\n",
        "print(mul3(10))"
      ],
      "metadata": {
        "colab": {
          "base_uri": "https://localhost:8080/"
        },
        "id": "0NhluPkZGS3X",
        "outputId": "54a14376-a5ca-4562-8877-665cbbba45c1"
      },
      "execution_count": null,
      "outputs": [
        {
          "output_type": "stream",
          "name": "stdout",
          "text": [
            "30\n"
          ]
        }
      ]
    },
    {
      "cell_type": "code",
      "source": [
        "# Inside annotate() or values_list()\n",
        "# from django.db.models import F\n",
        "# products.annotate(\n",
        "#     discounted_price=F('price') * 0.9\n",
        "# )"
      ],
      "metadata": {
        "id": "h453s6ArHZNx"
      },
      "execution_count": null,
      "outputs": []
    },
    {
      "cell_type": "code",
      "source": [
        "# product_list = list(products.values('name', 'price'))\n",
        "# discount = lambda p: {**p, 'discounted_price': p['price'] * 0.9}\n",
        "# new_list = list(map(discount, product_list))"
      ],
      "metadata": {
        "id": "BbhL-RovHkbB"
      },
      "execution_count": null,
      "outputs": []
    },
    {
      "cell_type": "code",
      "source": [
        "import pandas as pd\n",
        "\n",
        "df = pd.DataFrame({\n",
        "    'score': [50, 70, 90, 30]\n",
        "})\n",
        "df['grade'] = df['score'].apply(lambda x: 'A' if x >= 80 else 'B' if x >= 60 else 'C')\n",
        "print(df)"
      ],
      "metadata": {
        "colab": {
          "base_uri": "https://localhost:8080/"
        },
        "id": "tqPy4B_vHkYB",
        "outputId": "aadbddc0-5f81-4282-93e3-70c0cb570783"
      },
      "execution_count": null,
      "outputs": [
        {
          "output_type": "stream",
          "name": "stdout",
          "text": [
            "   score grade\n",
            "0     50     C\n",
            "1     70     B\n",
            "2     90     A\n",
            "3     30     C\n"
          ]
        }
      ]
    },
    {
      "cell_type": "code",
      "source": [
        "#Use lambda + apply to:\n",
        "# Convert a column of full names into initials (e.g., \"John Smith\" → \"J.S.\")\n",
        "writers = [\"J.R.R. Tolkien\", \"George R.R. Martin\", \"Brandon Sanderson\", \"Robert Jordan\", \"Ursula K. Le Guin\"]\n",
        "df_writers = pd.DataFrame(writers, columns=[\"Fantasy Authors\"])\n",
        "df_writers[\"Name Initials\"] = df_writers[\"Fantasy Authors\"].apply(lambda x: x.split()[0][0] + \" \" + x.split()[1][0])#.split(\".\" or \" \")\n",
        "df_writers"
      ],
      "metadata": {
        "colab": {
          "base_uri": "https://localhost:8080/",
          "height": 206
        },
        "id": "xmZzh9nNHkVh",
        "outputId": "9b116304-3d47-4781-aa83-1894075eeb28"
      },
      "execution_count": null,
      "outputs": [
        {
          "output_type": "execute_result",
          "data": {
            "text/plain": [
              "      Fantasy Authors Name Initials\n",
              "0      J.R.R. Tolkien           J T\n",
              "1  George R.R. Martin           G R\n",
              "2   Brandon Sanderson           B S\n",
              "3       Robert Jordan           R J\n",
              "4   Ursula K. Le Guin           U K"
            ],
            "text/html": [
              "\n",
              "  <div id=\"df-c91a074a-f143-4487-b0f6-805ed4020103\" class=\"colab-df-container\">\n",
              "    <div>\n",
              "<style scoped>\n",
              "    .dataframe tbody tr th:only-of-type {\n",
              "        vertical-align: middle;\n",
              "    }\n",
              "\n",
              "    .dataframe tbody tr th {\n",
              "        vertical-align: top;\n",
              "    }\n",
              "\n",
              "    .dataframe thead th {\n",
              "        text-align: right;\n",
              "    }\n",
              "</style>\n",
              "<table border=\"1\" class=\"dataframe\">\n",
              "  <thead>\n",
              "    <tr style=\"text-align: right;\">\n",
              "      <th></th>\n",
              "      <th>Fantasy Authors</th>\n",
              "      <th>Name Initials</th>\n",
              "    </tr>\n",
              "  </thead>\n",
              "  <tbody>\n",
              "    <tr>\n",
              "      <th>0</th>\n",
              "      <td>J.R.R. Tolkien</td>\n",
              "      <td>J T</td>\n",
              "    </tr>\n",
              "    <tr>\n",
              "      <th>1</th>\n",
              "      <td>George R.R. Martin</td>\n",
              "      <td>G R</td>\n",
              "    </tr>\n",
              "    <tr>\n",
              "      <th>2</th>\n",
              "      <td>Brandon Sanderson</td>\n",
              "      <td>B S</td>\n",
              "    </tr>\n",
              "    <tr>\n",
              "      <th>3</th>\n",
              "      <td>Robert Jordan</td>\n",
              "      <td>R J</td>\n",
              "    </tr>\n",
              "    <tr>\n",
              "      <th>4</th>\n",
              "      <td>Ursula K. Le Guin</td>\n",
              "      <td>U K</td>\n",
              "    </tr>\n",
              "  </tbody>\n",
              "</table>\n",
              "</div>\n",
              "    <div class=\"colab-df-buttons\">\n",
              "\n",
              "  <div class=\"colab-df-container\">\n",
              "    <button class=\"colab-df-convert\" onclick=\"convertToInteractive('df-c91a074a-f143-4487-b0f6-805ed4020103')\"\n",
              "            title=\"Convert this dataframe to an interactive table.\"\n",
              "            style=\"display:none;\">\n",
              "\n",
              "  <svg xmlns=\"http://www.w3.org/2000/svg\" height=\"24px\" viewBox=\"0 -960 960 960\">\n",
              "    <path d=\"M120-120v-720h720v720H120Zm60-500h600v-160H180v160Zm220 220h160v-160H400v160Zm0 220h160v-160H400v160ZM180-400h160v-160H180v160Zm440 0h160v-160H620v160ZM180-180h160v-160H180v160Zm440 0h160v-160H620v160Z\"/>\n",
              "  </svg>\n",
              "    </button>\n",
              "\n",
              "  <style>\n",
              "    .colab-df-container {\n",
              "      display:flex;\n",
              "      gap: 12px;\n",
              "    }\n",
              "\n",
              "    .colab-df-convert {\n",
              "      background-color: #E8F0FE;\n",
              "      border: none;\n",
              "      border-radius: 50%;\n",
              "      cursor: pointer;\n",
              "      display: none;\n",
              "      fill: #1967D2;\n",
              "      height: 32px;\n",
              "      padding: 0 0 0 0;\n",
              "      width: 32px;\n",
              "    }\n",
              "\n",
              "    .colab-df-convert:hover {\n",
              "      background-color: #E2EBFA;\n",
              "      box-shadow: 0px 1px 2px rgba(60, 64, 67, 0.3), 0px 1px 3px 1px rgba(60, 64, 67, 0.15);\n",
              "      fill: #174EA6;\n",
              "    }\n",
              "\n",
              "    .colab-df-buttons div {\n",
              "      margin-bottom: 4px;\n",
              "    }\n",
              "\n",
              "    [theme=dark] .colab-df-convert {\n",
              "      background-color: #3B4455;\n",
              "      fill: #D2E3FC;\n",
              "    }\n",
              "\n",
              "    [theme=dark] .colab-df-convert:hover {\n",
              "      background-color: #434B5C;\n",
              "      box-shadow: 0px 1px 3px 1px rgba(0, 0, 0, 0.15);\n",
              "      filter: drop-shadow(0px 1px 2px rgba(0, 0, 0, 0.3));\n",
              "      fill: #FFFFFF;\n",
              "    }\n",
              "  </style>\n",
              "\n",
              "    <script>\n",
              "      const buttonEl =\n",
              "        document.querySelector('#df-c91a074a-f143-4487-b0f6-805ed4020103 button.colab-df-convert');\n",
              "      buttonEl.style.display =\n",
              "        google.colab.kernel.accessAllowed ? 'block' : 'none';\n",
              "\n",
              "      async function convertToInteractive(key) {\n",
              "        const element = document.querySelector('#df-c91a074a-f143-4487-b0f6-805ed4020103');\n",
              "        const dataTable =\n",
              "          await google.colab.kernel.invokeFunction('convertToInteractive',\n",
              "                                                    [key], {});\n",
              "        if (!dataTable) return;\n",
              "\n",
              "        const docLinkHtml = 'Like what you see? Visit the ' +\n",
              "          '<a target=\"_blank\" href=https://colab.research.google.com/notebooks/data_table.ipynb>data table notebook</a>'\n",
              "          + ' to learn more about interactive tables.';\n",
              "        element.innerHTML = '';\n",
              "        dataTable['output_type'] = 'display_data';\n",
              "        await google.colab.output.renderOutput(dataTable, element);\n",
              "        const docLink = document.createElement('div');\n",
              "        docLink.innerHTML = docLinkHtml;\n",
              "        element.appendChild(docLink);\n",
              "      }\n",
              "    </script>\n",
              "  </div>\n",
              "\n",
              "\n",
              "    <div id=\"df-802e447c-ff59-4d80-aaab-2c586b3ee8d7\">\n",
              "      <button class=\"colab-df-quickchart\" onclick=\"quickchart('df-802e447c-ff59-4d80-aaab-2c586b3ee8d7')\"\n",
              "                title=\"Suggest charts\"\n",
              "                style=\"display:none;\">\n",
              "\n",
              "<svg xmlns=\"http://www.w3.org/2000/svg\" height=\"24px\"viewBox=\"0 0 24 24\"\n",
              "     width=\"24px\">\n",
              "    <g>\n",
              "        <path d=\"M19 3H5c-1.1 0-2 .9-2 2v14c0 1.1.9 2 2 2h14c1.1 0 2-.9 2-2V5c0-1.1-.9-2-2-2zM9 17H7v-7h2v7zm4 0h-2V7h2v10zm4 0h-2v-4h2v4z\"/>\n",
              "    </g>\n",
              "</svg>\n",
              "      </button>\n",
              "\n",
              "<style>\n",
              "  .colab-df-quickchart {\n",
              "      --bg-color: #E8F0FE;\n",
              "      --fill-color: #1967D2;\n",
              "      --hover-bg-color: #E2EBFA;\n",
              "      --hover-fill-color: #174EA6;\n",
              "      --disabled-fill-color: #AAA;\n",
              "      --disabled-bg-color: #DDD;\n",
              "  }\n",
              "\n",
              "  [theme=dark] .colab-df-quickchart {\n",
              "      --bg-color: #3B4455;\n",
              "      --fill-color: #D2E3FC;\n",
              "      --hover-bg-color: #434B5C;\n",
              "      --hover-fill-color: #FFFFFF;\n",
              "      --disabled-bg-color: #3B4455;\n",
              "      --disabled-fill-color: #666;\n",
              "  }\n",
              "\n",
              "  .colab-df-quickchart {\n",
              "    background-color: var(--bg-color);\n",
              "    border: none;\n",
              "    border-radius: 50%;\n",
              "    cursor: pointer;\n",
              "    display: none;\n",
              "    fill: var(--fill-color);\n",
              "    height: 32px;\n",
              "    padding: 0;\n",
              "    width: 32px;\n",
              "  }\n",
              "\n",
              "  .colab-df-quickchart:hover {\n",
              "    background-color: var(--hover-bg-color);\n",
              "    box-shadow: 0 1px 2px rgba(60, 64, 67, 0.3), 0 1px 3px 1px rgba(60, 64, 67, 0.15);\n",
              "    fill: var(--button-hover-fill-color);\n",
              "  }\n",
              "\n",
              "  .colab-df-quickchart-complete:disabled,\n",
              "  .colab-df-quickchart-complete:disabled:hover {\n",
              "    background-color: var(--disabled-bg-color);\n",
              "    fill: var(--disabled-fill-color);\n",
              "    box-shadow: none;\n",
              "  }\n",
              "\n",
              "  .colab-df-spinner {\n",
              "    border: 2px solid var(--fill-color);\n",
              "    border-color: transparent;\n",
              "    border-bottom-color: var(--fill-color);\n",
              "    animation:\n",
              "      spin 1s steps(1) infinite;\n",
              "  }\n",
              "\n",
              "  @keyframes spin {\n",
              "    0% {\n",
              "      border-color: transparent;\n",
              "      border-bottom-color: var(--fill-color);\n",
              "      border-left-color: var(--fill-color);\n",
              "    }\n",
              "    20% {\n",
              "      border-color: transparent;\n",
              "      border-left-color: var(--fill-color);\n",
              "      border-top-color: var(--fill-color);\n",
              "    }\n",
              "    30% {\n",
              "      border-color: transparent;\n",
              "      border-left-color: var(--fill-color);\n",
              "      border-top-color: var(--fill-color);\n",
              "      border-right-color: var(--fill-color);\n",
              "    }\n",
              "    40% {\n",
              "      border-color: transparent;\n",
              "      border-right-color: var(--fill-color);\n",
              "      border-top-color: var(--fill-color);\n",
              "    }\n",
              "    60% {\n",
              "      border-color: transparent;\n",
              "      border-right-color: var(--fill-color);\n",
              "    }\n",
              "    80% {\n",
              "      border-color: transparent;\n",
              "      border-right-color: var(--fill-color);\n",
              "      border-bottom-color: var(--fill-color);\n",
              "    }\n",
              "    90% {\n",
              "      border-color: transparent;\n",
              "      border-bottom-color: var(--fill-color);\n",
              "    }\n",
              "  }\n",
              "</style>\n",
              "\n",
              "      <script>\n",
              "        async function quickchart(key) {\n",
              "          const quickchartButtonEl =\n",
              "            document.querySelector('#' + key + ' button');\n",
              "          quickchartButtonEl.disabled = true;  // To prevent multiple clicks.\n",
              "          quickchartButtonEl.classList.add('colab-df-spinner');\n",
              "          try {\n",
              "            const charts = await google.colab.kernel.invokeFunction(\n",
              "                'suggestCharts', [key], {});\n",
              "          } catch (error) {\n",
              "            console.error('Error during call to suggestCharts:', error);\n",
              "          }\n",
              "          quickchartButtonEl.classList.remove('colab-df-spinner');\n",
              "          quickchartButtonEl.classList.add('colab-df-quickchart-complete');\n",
              "        }\n",
              "        (() => {\n",
              "          let quickchartButtonEl =\n",
              "            document.querySelector('#df-802e447c-ff59-4d80-aaab-2c586b3ee8d7 button');\n",
              "          quickchartButtonEl.style.display =\n",
              "            google.colab.kernel.accessAllowed ? 'block' : 'none';\n",
              "        })();\n",
              "      </script>\n",
              "    </div>\n",
              "\n",
              "  <div id=\"id_e78036b5-6165-4371-ae54-ae51e21cb9e4\">\n",
              "    <style>\n",
              "      .colab-df-generate {\n",
              "        background-color: #E8F0FE;\n",
              "        border: none;\n",
              "        border-radius: 50%;\n",
              "        cursor: pointer;\n",
              "        display: none;\n",
              "        fill: #1967D2;\n",
              "        height: 32px;\n",
              "        padding: 0 0 0 0;\n",
              "        width: 32px;\n",
              "      }\n",
              "\n",
              "      .colab-df-generate:hover {\n",
              "        background-color: #E2EBFA;\n",
              "        box-shadow: 0px 1px 2px rgba(60, 64, 67, 0.3), 0px 1px 3px 1px rgba(60, 64, 67, 0.15);\n",
              "        fill: #174EA6;\n",
              "      }\n",
              "\n",
              "      [theme=dark] .colab-df-generate {\n",
              "        background-color: #3B4455;\n",
              "        fill: #D2E3FC;\n",
              "      }\n",
              "\n",
              "      [theme=dark] .colab-df-generate:hover {\n",
              "        background-color: #434B5C;\n",
              "        box-shadow: 0px 1px 3px 1px rgba(0, 0, 0, 0.15);\n",
              "        filter: drop-shadow(0px 1px 2px rgba(0, 0, 0, 0.3));\n",
              "        fill: #FFFFFF;\n",
              "      }\n",
              "    </style>\n",
              "    <button class=\"colab-df-generate\" onclick=\"generateWithVariable('df_writers')\"\n",
              "            title=\"Generate code using this dataframe.\"\n",
              "            style=\"display:none;\">\n",
              "\n",
              "  <svg xmlns=\"http://www.w3.org/2000/svg\" height=\"24px\"viewBox=\"0 0 24 24\"\n",
              "       width=\"24px\">\n",
              "    <path d=\"M7,19H8.4L18.45,9,17,7.55,7,17.6ZM5,21V16.75L18.45,3.32a2,2,0,0,1,2.83,0l1.4,1.43a1.91,1.91,0,0,1,.58,1.4,1.91,1.91,0,0,1-.58,1.4L9.25,21ZM18.45,9,17,7.55Zm-12,3A5.31,5.31,0,0,0,4.9,8.1,5.31,5.31,0,0,0,1,6.5,5.31,5.31,0,0,0,4.9,4.9,5.31,5.31,0,0,0,6.5,1,5.31,5.31,0,0,0,8.1,4.9,5.31,5.31,0,0,0,12,6.5,5.46,5.46,0,0,0,6.5,12Z\"/>\n",
              "  </svg>\n",
              "    </button>\n",
              "    <script>\n",
              "      (() => {\n",
              "      const buttonEl =\n",
              "        document.querySelector('#id_e78036b5-6165-4371-ae54-ae51e21cb9e4 button.colab-df-generate');\n",
              "      buttonEl.style.display =\n",
              "        google.colab.kernel.accessAllowed ? 'block' : 'none';\n",
              "\n",
              "      buttonEl.onclick = () => {\n",
              "        google.colab.notebook.generateWithVariable('df_writers');\n",
              "      }\n",
              "      })();\n",
              "    </script>\n",
              "  </div>\n",
              "\n",
              "    </div>\n",
              "  </div>\n"
            ],
            "application/vnd.google.colaboratory.intrinsic+json": {
              "type": "dataframe",
              "variable_name": "df_writers",
              "summary": "{\n  \"name\": \"df_writers\",\n  \"rows\": 5,\n  \"fields\": [\n    {\n      \"column\": \"Fantasy Authors\",\n      \"properties\": {\n        \"dtype\": \"string\",\n        \"num_unique_values\": 5,\n        \"samples\": [\n          \"George R.R. Martin\",\n          \"Ursula K. Le Guin\",\n          \"Brandon Sanderson\"\n        ],\n        \"semantic_type\": \"\",\n        \"description\": \"\"\n      }\n    },\n    {\n      \"column\": \"Name Initials\",\n      \"properties\": {\n        \"dtype\": \"string\",\n        \"num_unique_values\": 5,\n        \"samples\": [\n          \"G R\",\n          \"U K\",\n          \"B S\"\n        ],\n        \"semantic_type\": \"\",\n        \"description\": \"\"\n      }\n    }\n  ]\n}"
            }
          },
          "metadata": {},
          "execution_count": 19
        }
      ]
    },
    {
      "cell_type": "code",
      "source": [
        "words = [\"apple\", \"banana\", \"pear\", \"grapes\"]\n",
        "sorted_words = sorted(words, key=lambda x: (-len(x), x))\n",
        "print(sorted_words)  # By descending length, then alphabet"
      ],
      "metadata": {
        "colab": {
          "base_uri": "https://localhost:8080/"
        },
        "id": "6vb-4yZaJVd2",
        "outputId": "bd820a46-4869-4bf4-8c54-f82012c69474"
      },
      "execution_count": null,
      "outputs": [
        {
          "output_type": "stream",
          "name": "stdout",
          "text": [
            "['banana', 'grapes', 'apple', 'pear']\n"
          ]
        }
      ]
    },
    {
      "cell_type": "code",
      "source": [
        "#Sort a list of tuples like [(“a”, 2), (“b”, 3), (“c”, 2)] by number descending, then by letter ascending."
      ],
      "metadata": {
        "id": "uU105jnoJvGt"
      },
      "execution_count": null,
      "outputs": []
    },
    {
      "cell_type": "code",
      "source": [
        "def apply_twice(f, x):\n",
        "    return f(f(x))\n",
        "\n",
        "print(apply_twice(lambda x: x + 2, 10))  # 14"
      ],
      "metadata": {
        "colab": {
          "base_uri": "https://localhost:8080/"
        },
        "id": "bFYP4UQKJx2d",
        "outputId": "c06a95d7-be8e-453d-ef87-8f005e938f2f"
      },
      "execution_count": null,
      "outputs": [
        {
          "output_type": "stream",
          "name": "stdout",
          "text": [
            "14\n"
          ]
        }
      ]
    },
    {
      "cell_type": "code",
      "source": [
        "#Create a lambda that formats a number by adding commas (e.g., 1000000 → '1,000,000')"
      ],
      "metadata": {
        "id": "XKxAGV1wJxzd"
      },
      "execution_count": null,
      "outputs": []
    },
    {
      "cell_type": "code",
      "source": [
        "# In sorted, groupby, map post-query transformations."
      ],
      "metadata": {
        "id": "Yl5WEoUBJxws"
      },
      "execution_count": null,
      "outputs": []
    },
    {
      "cell_type": "code",
      "source": [],
      "metadata": {
        "id": "CF5blHYrUqA2"
      },
      "execution_count": null,
      "outputs": []
    }
  ]
}